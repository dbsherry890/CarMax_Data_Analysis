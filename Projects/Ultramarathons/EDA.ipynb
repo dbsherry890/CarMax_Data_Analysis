{
 "cells": [
  {
   "cell_type": "markdown",
   "id": "c8f0de9a",
   "metadata": {},
   "source": [
    "# Goal: Answer the following questions\n",
    "### Which countries offer the longest races?\n",
    "### Which races take the longest to finish on average?"
   ]
  },
  {
   "cell_type": "code",
   "execution_count": 1,
   "id": "40a1735d",
   "metadata": {},
   "outputs": [
    {
     "name": "stderr",
     "output_type": "stream",
     "text": [
      "/Users/ds/Coding/Python/Data-Analyst/.venv/lib/python3.13/site-packages/tqdm/auto.py:21: TqdmWarning: IProgress not found. Please update jupyter and ipywidgets. See https://ipywidgets.readthedocs.io/en/stable/user_install.html\n",
      "  from .autonotebook import tqdm as notebook_tqdm\n"
     ]
    }
   ],
   "source": [
    "import pandas as pd\n",
    "import numpy as np\n",
    "import kagglehub\n",
    "from kagglehub import KaggleDatasetAdapter\n",
    "from pathlib import Path"
   ]
  },
  {
   "cell_type": "code",
   "execution_count": 2,
   "id": "dadb3b1a",
   "metadata": {},
   "outputs": [
    {
     "name": "stdout",
     "output_type": "stream",
     "text": [
      "Path to dataset files: /Users/ds/.cache/kagglehub/datasets/aiaiaidavid/the-big-dataset-of-ultra-marathon-running/versions/2\n"
     ]
    }
   ],
   "source": [
    "file_path = kagglehub.dataset_download(\"aiaiaidavid/the-big-dataset-of-ultra-marathon-running\")\n",
    "\n",
    "print(\"Path to dataset files:\", file_path)"
   ]
  },
  {
   "cell_type": "code",
   "execution_count": 3,
   "id": "258659d9",
   "metadata": {},
   "outputs": [
    {
     "name": "stderr",
     "output_type": "stream",
     "text": [
      "/var/folders/_w/p__mh4fn0pj6hdp6rksxkw9r0000gn/T/ipykernel_86509/679266690.py:1: DtypeWarning: Columns (11) have mixed types. Specify dtype option on import or set low_memory=False.\n",
      "  df = pd.read_csv(Path(file_path, \"TWO_CENTURIES_OF_UM_RACES.csv\"))\n"
     ]
    },
    {
     "data": {
      "text/html": [
       "<div>\n",
       "<style scoped>\n",
       "    .dataframe tbody tr th:only-of-type {\n",
       "        vertical-align: middle;\n",
       "    }\n",
       "\n",
       "    .dataframe tbody tr th {\n",
       "        vertical-align: top;\n",
       "    }\n",
       "\n",
       "    .dataframe thead th {\n",
       "        text-align: right;\n",
       "    }\n",
       "</style>\n",
       "<table border=\"1\" class=\"dataframe\">\n",
       "  <thead>\n",
       "    <tr style=\"text-align: right;\">\n",
       "      <th></th>\n",
       "      <th>Year of event</th>\n",
       "      <th>Event dates</th>\n",
       "      <th>Event name</th>\n",
       "      <th>Event distance/length</th>\n",
       "      <th>Event number of finishers</th>\n",
       "      <th>Athlete performance</th>\n",
       "      <th>Athlete club</th>\n",
       "      <th>Athlete country</th>\n",
       "      <th>Athlete year of birth</th>\n",
       "      <th>Athlete gender</th>\n",
       "      <th>Athlete age category</th>\n",
       "      <th>Athlete average speed</th>\n",
       "      <th>Athlete ID</th>\n",
       "    </tr>\n",
       "  </thead>\n",
       "  <tbody>\n",
       "    <tr>\n",
       "      <th>2907211</th>\n",
       "      <td>2021</td>\n",
       "      <td>08.-10.07.2021</td>\n",
       "      <td>Ultra-Trail Di Corsica (FRA)</td>\n",
       "      <td>110km</td>\n",
       "      <td>123</td>\n",
       "      <td>27:10:35 h</td>\n",
       "      <td>Team Edf-Cmcas / Bike ...</td>\n",
       "      <td>FRA</td>\n",
       "      <td>1989.0</td>\n",
       "      <td>M</td>\n",
       "      <td>M23</td>\n",
       "      <td>4.048</td>\n",
       "      <td>242760</td>\n",
       "    </tr>\n",
       "    <tr>\n",
       "      <th>425616</th>\n",
       "      <td>2018</td>\n",
       "      <td>09.09.2018</td>\n",
       "      <td>Trail des légendes de Brocéliande (FRA)</td>\n",
       "      <td>50km</td>\n",
       "      <td>318</td>\n",
       "      <td>4:35:47 h</td>\n",
       "      <td>Team Trail du Bocage</td>\n",
       "      <td>FRA</td>\n",
       "      <td>1980.0</td>\n",
       "      <td>M</td>\n",
       "      <td>M35</td>\n",
       "      <td>10.878</td>\n",
       "      <td>49247</td>\n",
       "    </tr>\n",
       "    <tr>\n",
       "      <th>1324632</th>\n",
       "      <td>2017</td>\n",
       "      <td>11.03.2017</td>\n",
       "      <td>6-Stunden-Lauf Münster - DUV-DM (GER)</td>\n",
       "      <td>6h</td>\n",
       "      <td>533</td>\n",
       "      <td>51.003 km</td>\n",
       "      <td>Marathon Steinfurt</td>\n",
       "      <td>GER</td>\n",
       "      <td>1953.0</td>\n",
       "      <td>M</td>\n",
       "      <td>M60</td>\n",
       "      <td>8.501</td>\n",
       "      <td>375641</td>\n",
       "    </tr>\n",
       "    <tr>\n",
       "      <th>2457309</th>\n",
       "      <td>2019</td>\n",
       "      <td>28.-29.09.2019</td>\n",
       "      <td>Les 100 km de Millau (FRA)</td>\n",
       "      <td>100km</td>\n",
       "      <td>1008</td>\n",
       "      <td>12:02:17 h</td>\n",
       "      <td>Coureurs du Monde EN I...</td>\n",
       "      <td>FRA</td>\n",
       "      <td>1971.0</td>\n",
       "      <td>F</td>\n",
       "      <td>W45</td>\n",
       "      <td>8.307</td>\n",
       "      <td>791101</td>\n",
       "    </tr>\n",
       "    <tr>\n",
       "      <th>1207270</th>\n",
       "      <td>2017</td>\n",
       "      <td>11.02.2017</td>\n",
       "      <td>Golden Gate 50 km Winter Trail Run (USA)</td>\n",
       "      <td>50km</td>\n",
       "      <td>45</td>\n",
       "      <td>6:50:08 h</td>\n",
       "      <td>*San Francisco, CA</td>\n",
       "      <td>USA</td>\n",
       "      <td>1979.0</td>\n",
       "      <td>M</td>\n",
       "      <td>M35</td>\n",
       "      <td>7.315</td>\n",
       "      <td>468726</td>\n",
       "    </tr>\n",
       "  </tbody>\n",
       "</table>\n",
       "</div>"
      ],
      "text/plain": [
       "         Year of event     Event dates  \\\n",
       "2907211           2021  08.-10.07.2021   \n",
       "425616            2018      09.09.2018   \n",
       "1324632           2017      11.03.2017   \n",
       "2457309           2019  28.-29.09.2019   \n",
       "1207270           2017      11.02.2017   \n",
       "\n",
       "                                       Event name Event distance/length  \\\n",
       "2907211              Ultra-Trail Di Corsica (FRA)                 110km   \n",
       "425616    Trail des légendes de Brocéliande (FRA)                  50km   \n",
       "1324632     6-Stunden-Lauf Münster - DUV-DM (GER)                    6h   \n",
       "2457309                Les 100 km de Millau (FRA)                 100km   \n",
       "1207270  Golden Gate 50 km Winter Trail Run (USA)                  50km   \n",
       "\n",
       "         Event number of finishers Athlete performance  \\\n",
       "2907211                        123          27:10:35 h   \n",
       "425616                         318           4:35:47 h   \n",
       "1324632                        533           51.003 km   \n",
       "2457309                       1008          12:02:17 h   \n",
       "1207270                         45           6:50:08 h   \n",
       "\n",
       "                      Athlete club Athlete country  Athlete year of birth  \\\n",
       "2907211  Team Edf-Cmcas / Bike ...             FRA                 1989.0   \n",
       "425616        Team Trail du Bocage             FRA                 1980.0   \n",
       "1324632         Marathon Steinfurt             GER                 1953.0   \n",
       "2457309  Coureurs du Monde EN I...             FRA                 1971.0   \n",
       "1207270         *San Francisco, CA             USA                 1979.0   \n",
       "\n",
       "        Athlete gender Athlete age category Athlete average speed  Athlete ID  \n",
       "2907211              M                  M23                 4.048      242760  \n",
       "425616               M                  M35                10.878       49247  \n",
       "1324632              M                  M60                 8.501      375641  \n",
       "2457309              F                  W45                 8.307      791101  \n",
       "1207270              M                  M35                 7.315      468726  "
      ]
     },
     "execution_count": 3,
     "metadata": {},
     "output_type": "execute_result"
    }
   ],
   "source": [
    "df = pd.read_csv(Path(file_path, \"TWO_CENTURIES_OF_UM_RACES.csv\"))\n",
    "df.dropna(inplace=True)\n",
    "df.drop_duplicates(inplace=True)\n",
    "df.sample(5)"
   ]
  },
  {
   "cell_type": "code",
   "execution_count": 4,
   "id": "7708e431",
   "metadata": {},
   "outputs": [
    {
     "data": {
      "text/plain": [
       "Year of event                  int64\n",
       "Event dates                   object\n",
       "Event name                    object\n",
       "Event distance/length         object\n",
       "Event number of finishers      int64\n",
       "Athlete performance           object\n",
       "Athlete club                  object\n",
       "Athlete country               object\n",
       "Athlete year of birth        float64\n",
       "Athlete gender                object\n",
       "Athlete age category          object\n",
       "Athlete average speed         object\n",
       "Athlete ID                     int64\n",
       "dtype: object"
      ]
     },
     "execution_count": 4,
     "metadata": {},
     "output_type": "execute_result"
    }
   ],
   "source": [
    "df.dtypes"
   ]
  },
  {
   "cell_type": "markdown",
   "id": "0550771d",
   "metadata": {},
   "source": [
    "## Data Cleaning\n",
    "\n",
    "#### Standardizing 'Event distance/length' column"
   ]
  },
  {
   "cell_type": "code",
   "execution_count": 5,
   "id": "a4da3254",
   "metadata": {},
   "outputs": [
    {
     "data": {
      "text/plain": [
       "1494             83.1km\n",
       "1075             65.4km\n",
       "129                89km\n",
       "1095            106.6km\n",
       "1353             30.7mi\n",
       "668              64.2km\n",
       "871              77.9km\n",
       "1392    705km/12Etappen\n",
       "47       150km/3Etappen\n",
       "128              49.7km\n",
       "dtype: object"
      ]
     },
     "execution_count": 5,
     "metadata": {},
     "output_type": "execute_result"
    }
   ],
   "source": [
    "# Find unique valies for 'Event distance/length'\n",
    "unique_distances = df['Event distance/length'].unique()\n",
    "pd.Series(unique_distances).sample(10)"
   ]
  },
  {
   "cell_type": "code",
   "execution_count": 6,
   "id": "6e8ab5f5",
   "metadata": {},
   "outputs": [
    {
     "data": {
      "text/plain": [
       "(29,)"
      ]
     },
     "execution_count": 6,
     "metadata": {},
     "output_type": "execute_result"
    }
   ],
   "source": [
    "# find unique 2-digit suffixes for distance\n",
    "suffixes = df['Event distance/length'].str.split('/').str.get(0).str[-2:]\n",
    "suffixes.unique().shape # -> 29"
   ]
  },
  {
   "cell_type": "code",
   "execution_count": 7,
   "id": "a7e2ef56",
   "metadata": {},
   "outputs": [
    {
     "data": {
      "text/plain": [
       "(4059693, 14)"
      ]
     },
     "execution_count": 7,
     "metadata": {},
     "output_type": "execute_result"
    }
   ],
   "source": [
    "# Filter out races where distance isn't recorded in miles ('mi') or kilometers ('km')\n",
    "df = df[df['Event distance/length'].str.endswith((\"mi\", \"km\"))].reset_index()\n",
    "df.shape"
   ]
  },
  {
   "cell_type": "code",
   "execution_count": 8,
   "id": "d55fef06",
   "metadata": {},
   "outputs": [
    {
     "name": "stdout",
     "output_type": "stream",
     "text": [
      "25 rows filtered out\n"
     ]
    }
   ],
   "source": [
    "# Filtering out distances that can't be converted to a number\n",
    "before_row_count = df.shape[0]\n",
    "df = df[~pd.to_numeric(df['Event distance/length'].str[:-2], errors='coerce').isna()]\n",
    "print(before_row_count - df.shape[0], \"rows filtered out\") # -> 25"
   ]
  },
  {
   "cell_type": "code",
   "execution_count": 9,
   "id": "08e72a58",
   "metadata": {},
   "outputs": [
    {
     "data": {
      "text/html": [
       "<div>\n",
       "<style scoped>\n",
       "    .dataframe tbody tr th:only-of-type {\n",
       "        vertical-align: middle;\n",
       "    }\n",
       "\n",
       "    .dataframe tbody tr th {\n",
       "        vertical-align: top;\n",
       "    }\n",
       "\n",
       "    .dataframe thead th {\n",
       "        text-align: right;\n",
       "    }\n",
       "</style>\n",
       "<table border=\"1\" class=\"dataframe\">\n",
       "  <thead>\n",
       "    <tr style=\"text-align: right;\">\n",
       "      <th></th>\n",
       "      <th>Event name</th>\n",
       "      <th>Year of event</th>\n",
       "      <th>Event distance/length</th>\n",
       "      <th>Event distance (miles)</th>\n",
       "    </tr>\n",
       "  </thead>\n",
       "  <tbody>\n",
       "    <tr>\n",
       "      <th>3091233</th>\n",
       "      <td>Okinoshima 50km Ultra Marathon (JPN)</td>\n",
       "      <td>2013</td>\n",
       "      <td>50km</td>\n",
       "      <td>31.07</td>\n",
       "    </tr>\n",
       "    <tr>\n",
       "      <th>3751001</th>\n",
       "      <td>100 km Lauf Biel (SUI)</td>\n",
       "      <td>1975</td>\n",
       "      <td>100km</td>\n",
       "      <td>62.14</td>\n",
       "    </tr>\n",
       "    <tr>\n",
       "      <th>1467631</th>\n",
       "      <td>Full mOOn Run - Midnight 50K (USA)</td>\n",
       "      <td>2021</td>\n",
       "      <td>50km</td>\n",
       "      <td>31.07</td>\n",
       "    </tr>\n",
       "    <tr>\n",
       "      <th>3756764</th>\n",
       "      <td>100 km Lauf Biel (SUI)</td>\n",
       "      <td>1976</td>\n",
       "      <td>100km</td>\n",
       "      <td>62.14</td>\n",
       "    </tr>\n",
       "    <tr>\n",
       "      <th>495105</th>\n",
       "      <td>Trail de Guerlédan (FRA)</td>\n",
       "      <td>2016</td>\n",
       "      <td>58km</td>\n",
       "      <td>36.04</td>\n",
       "    </tr>\n",
       "    <tr>\n",
       "      <th>2217814</th>\n",
       "      <td>Laugavegurinn 55 km, Landmannalaugar - Húsadal...</td>\n",
       "      <td>2005</td>\n",
       "      <td>55km</td>\n",
       "      <td>34.18</td>\n",
       "    </tr>\n",
       "    <tr>\n",
       "      <th>2238411</th>\n",
       "      <td>GutsMuths-Rennsteiglauf (GER)</td>\n",
       "      <td>2005</td>\n",
       "      <td>72.7km</td>\n",
       "      <td>45.17</td>\n",
       "    </tr>\n",
       "    <tr>\n",
       "      <th>174657</th>\n",
       "      <td>Lakeland 50 Mile (GBR)</td>\n",
       "      <td>2018</td>\n",
       "      <td>50mi</td>\n",
       "      <td>50.00</td>\n",
       "    </tr>\n",
       "    <tr>\n",
       "      <th>429628</th>\n",
       "      <td>Ultrabericus Trail (ITA)</td>\n",
       "      <td>2016</td>\n",
       "      <td>66km</td>\n",
       "      <td>41.01</td>\n",
       "    </tr>\n",
       "    <tr>\n",
       "      <th>2148543</th>\n",
       "      <td>Mountain Masochist 50 Mile Trail Run (USA)</td>\n",
       "      <td>2004</td>\n",
       "      <td>50mi</td>\n",
       "      <td>50.00</td>\n",
       "    </tr>\n",
       "  </tbody>\n",
       "</table>\n",
       "</div>"
      ],
      "text/plain": [
       "                                                Event name  Year of event  \\\n",
       "3091233               Okinoshima 50km Ultra Marathon (JPN)           2013   \n",
       "3751001                             100 km Lauf Biel (SUI)           1975   \n",
       "1467631                 Full mOOn Run - Midnight 50K (USA)           2021   \n",
       "3756764                             100 km Lauf Biel (SUI)           1976   \n",
       "495105                            Trail de Guerlédan (FRA)           2016   \n",
       "2217814  Laugavegurinn 55 km, Landmannalaugar - Húsadal...           2005   \n",
       "2238411                      GutsMuths-Rennsteiglauf (GER)           2005   \n",
       "174657                              Lakeland 50 Mile (GBR)           2018   \n",
       "429628                            Ultrabericus Trail (ITA)           2016   \n",
       "2148543         Mountain Masochist 50 Mile Trail Run (USA)           2004   \n",
       "\n",
       "        Event distance/length  Event distance (miles)  \n",
       "3091233                  50km                   31.07  \n",
       "3751001                 100km                   62.14  \n",
       "1467631                  50km                   31.07  \n",
       "3756764                 100km                   62.14  \n",
       "495105                   58km                   36.04  \n",
       "2217814                  55km                   34.18  \n",
       "2238411                72.7km                   45.17  \n",
       "174657                   50mi                   50.00  \n",
       "429628                   66km                   41.01  \n",
       "2148543                  50mi                   50.00  "
      ]
     },
     "execution_count": 9,
     "metadata": {},
     "output_type": "execute_result"
    }
   ],
   "source": [
    "# creating new column that standardizes event distances to miles\n",
    "condition = df['Event distance/length'].str.endswith(\"km\")\n",
    "\n",
    "df['Event distance (miles)'] = np.where(\n",
    "        condition,\n",
    "        pd.to_numeric(df['Event distance/length'].str[:-2]) * 0.621371, \n",
    "        pd.to_numeric(df['Event distance/length'].str[:-2])\n",
    "    ).round(2)\n",
    "\n",
    "df = df[['Event name', 'Year of event', 'Event distance/length', 'Event distance (miles)']]\n",
    "df.sample(10)"
   ]
  },
  {
   "cell_type": "code",
   "execution_count": 10,
   "id": "d4e50759",
   "metadata": {},
   "outputs": [
    {
     "data": {
      "text/html": [
       "<div>\n",
       "<style scoped>\n",
       "    .dataframe tbody tr th:only-of-type {\n",
       "        vertical-align: middle;\n",
       "    }\n",
       "\n",
       "    .dataframe tbody tr th {\n",
       "        vertical-align: top;\n",
       "    }\n",
       "\n",
       "    .dataframe thead th {\n",
       "        text-align: right;\n",
       "    }\n",
       "</style>\n",
       "<table border=\"1\" class=\"dataframe\">\n",
       "  <thead>\n",
       "    <tr style=\"text-align: right;\">\n",
       "      <th></th>\n",
       "      <th>Event name</th>\n",
       "      <th>Year of event</th>\n",
       "      <th>Event distance/length</th>\n",
       "      <th>Event distance (miles)</th>\n",
       "      <th>code</th>\n",
       "    </tr>\n",
       "  </thead>\n",
       "  <tbody>\n",
       "    <tr>\n",
       "      <th>3563990</th>\n",
       "      <td>Run for Kids 50 km Challenge (USA)</td>\n",
       "      <td>2015</td>\n",
       "      <td>50km</td>\n",
       "      <td>31.07</td>\n",
       "      <td>USA</td>\n",
       "    </tr>\n",
       "    <tr>\n",
       "      <th>2155060</th>\n",
       "      <td>Subida al Pico Veleta (ESP)</td>\n",
       "      <td>2004</td>\n",
       "      <td>50km</td>\n",
       "      <td>31.07</td>\n",
       "      <td>ESP</td>\n",
       "    </tr>\n",
       "    <tr>\n",
       "      <th>1645305</th>\n",
       "      <td>Trail des 2 Amants - Maxi'TDA (FRA)</td>\n",
       "      <td>2022</td>\n",
       "      <td>85km</td>\n",
       "      <td>52.82</td>\n",
       "      <td>FRA</td>\n",
       "    </tr>\n",
       "    <tr>\n",
       "      <th>48630</th>\n",
       "      <td>The Canyons Endurance 100 Km Run (USA)</td>\n",
       "      <td>2018</td>\n",
       "      <td>100km</td>\n",
       "      <td>62.14</td>\n",
       "      <td>USA</td>\n",
       "    </tr>\n",
       "    <tr>\n",
       "      <th>1182211</th>\n",
       "      <td>La 6000D (FRA)</td>\n",
       "      <td>2019</td>\n",
       "      <td>65.5km</td>\n",
       "      <td>40.70</td>\n",
       "      <td>FRA</td>\n",
       "    </tr>\n",
       "    <tr>\n",
       "      <th>2469913</th>\n",
       "      <td>Comrades Marathon - Up Run (RSA)</td>\n",
       "      <td>2008</td>\n",
       "      <td>87km</td>\n",
       "      <td>54.06</td>\n",
       "      <td>RSA</td>\n",
       "    </tr>\n",
       "    <tr>\n",
       "      <th>1722244</th>\n",
       "      <td>Tahoe 200 Mile Endurance Run (USA)</td>\n",
       "      <td>2022</td>\n",
       "      <td>202mi</td>\n",
       "      <td>202.00</td>\n",
       "      <td>USA</td>\n",
       "    </tr>\n",
       "    <tr>\n",
       "      <th>1800211</th>\n",
       "      <td>Nice Côte d'Azur by UTMB - 50K (FRA)</td>\n",
       "      <td>2022</td>\n",
       "      <td>59km</td>\n",
       "      <td>36.66</td>\n",
       "      <td>FRA</td>\n",
       "    </tr>\n",
       "    <tr>\n",
       "      <th>1404271</th>\n",
       "      <td>MuleSkinner Endurance 50 km Race (USA)</td>\n",
       "      <td>2020</td>\n",
       "      <td>50km</td>\n",
       "      <td>31.07</td>\n",
       "      <td>USA</td>\n",
       "    </tr>\n",
       "    <tr>\n",
       "      <th>3385617</th>\n",
       "      <td>SkyView Ultra-Trail 60 - Yamada Noboru Memoria...</td>\n",
       "      <td>2014</td>\n",
       "      <td>66km</td>\n",
       "      <td>41.01</td>\n",
       "      <td>JPN</td>\n",
       "    </tr>\n",
       "  </tbody>\n",
       "</table>\n",
       "</div>"
      ],
      "text/plain": [
       "                                                Event name  Year of event  \\\n",
       "3563990                 Run for Kids 50 km Challenge (USA)           2015   \n",
       "2155060                        Subida al Pico Veleta (ESP)           2004   \n",
       "1645305                Trail des 2 Amants - Maxi'TDA (FRA)           2022   \n",
       "48630               The Canyons Endurance 100 Km Run (USA)           2018   \n",
       "1182211                                     La 6000D (FRA)           2019   \n",
       "2469913                   Comrades Marathon - Up Run (RSA)           2008   \n",
       "1722244                 Tahoe 200 Mile Endurance Run (USA)           2022   \n",
       "1800211               Nice Côte d'Azur by UTMB - 50K (FRA)           2022   \n",
       "1404271             MuleSkinner Endurance 50 km Race (USA)           2020   \n",
       "3385617  SkyView Ultra-Trail 60 - Yamada Noboru Memoria...           2014   \n",
       "\n",
       "        Event distance/length  Event distance (miles) code  \n",
       "3563990                  50km                   31.07  USA  \n",
       "2155060                  50km                   31.07  ESP  \n",
       "1645305                  85km                   52.82  FRA  \n",
       "48630                   100km                   62.14  USA  \n",
       "1182211                65.5km                   40.70  FRA  \n",
       "2469913                  87km                   54.06  RSA  \n",
       "1722244                 202mi                  202.00  USA  \n",
       "1800211                  59km                   36.66  FRA  \n",
       "1404271                  50km                   31.07  USA  \n",
       "3385617                  66km                   41.01  JPN  "
      ]
     },
     "execution_count": 10,
     "metadata": {},
     "output_type": "execute_result"
    }
   ],
   "source": [
    "# get country code from 'Event name' field\n",
    "df['code'] = df['Event name'].str[-4:-1]\n",
    "df.sample(10)"
   ]
  },
  {
   "cell_type": "code",
   "execution_count": 11,
   "id": "0f209cb9",
   "metadata": {},
   "outputs": [
    {
     "data": {
      "text/plain": [
       "0"
      ]
     },
     "execution_count": 11,
     "metadata": {},
     "output_type": "execute_result"
    }
   ],
   "source": [
    "# map country code to country name\n",
    "import pycountry\n",
    "\n",
    "results = []\n",
    "for country in pycountry.countries:\n",
    "    results.append([country.name, country.alpha_3])\n",
    "\n",
    "country_df = pd.DataFrame(results, columns=['country', 'code'])\n",
    "\n",
    "df = pd.merge(df, country_df, on='code', how='left')\n",
    "df[df['code'].isna()].shape[0] # -> 0 rows left unmapped"
   ]
  },
  {
   "cell_type": "markdown",
   "id": "c88d20c9",
   "metadata": {},
   "source": [
    "## Which countries offer the longest races?"
   ]
  },
  {
   "cell_type": "code",
   "execution_count": 12,
   "id": "1322a37d",
   "metadata": {},
   "outputs": [],
   "source": [
    "long_races_df = df.groupby('country')['Event distance (miles)'].agg(['mean', 'max'])\n",
    "long_races_df = long_races_df.sort_values(by='max', ascending=False).head(10)"
   ]
  },
  {
   "cell_type": "markdown",
   "id": "9ab7a8d0",
   "metadata": {},
   "source": [
    "### Findings, according to our dataset:\n",
    "- The United States offers the longest ultramarathon at 3085 miles\n",
    "- 9 countries offer ultramarathons that are 500 miles or more"
   ]
  },
  {
   "cell_type": "code",
   "execution_count": 13,
   "id": "73c59fb3",
   "metadata": {},
   "outputs": [
    {
     "data": {
      "text/plain": [
       "<Axes: ylabel='max'>"
      ]
     },
     "execution_count": 13,
     "metadata": {},
     "output_type": "execute_result"
    },
    {
     "data": {
      "image/png": "[encoded data removed]",
      "text/plain": [
       "<Figure size 640x480 with 1 Axes>"
      ]
     },
     "metadata": {},
     "output_type": "display_data"
    }
   ],
   "source": [
    "long_races_df['max'].plot(kind='pie')"
   ]
  }
 ],
 "metadata": {
  "kernelspec": {
   "display_name": ".venv",
   "language": "python",
   "name": "python3"
  },
  "language_info": {
   "codemirror_mode": {
    "name": "ipython",
    "version": 3
   },
   "file_extension": ".py",
   "mimetype": "text/x-python",
   "name": "python",
   "nbconvert_exporter": "python",
   "pygments_lexer": "ipython3",
   "version": "3.13.1"
  }
 },
 "nbformat": 4,
 "nbformat_minor": 5
}
